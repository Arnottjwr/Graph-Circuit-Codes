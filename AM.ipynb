import networkx as nx
import numpy as np


def eulerian_circuit(G):
    if not nx.is_eulerian(G):  
         print(f"This graph is not Eulerian" )     
         return None

    stack = [0]                             
    circuit = [] 
    F = np.array(nx.adjacency_matrix(G).todense())
    
    while stack: 
        
        current_vertex = stack[-1]                               
        
        if  (F[current_vertex]).any() == 1:            # If the node has any vertices not considered
            edge = np.nonzero(F[current_vertex])[0][0] # Pick a neighbour not yet considered
            F[current_vertex][edge] = 0
            F[edge][current_vertex] = 0
            stack.append(edge)  
          
        else:                                           # If there are no more vertices which havent been considered
            current_vertex = stack.pop()                # Pop from the stack 
            circuit.append(current_vertex)              # and add to the circuit 
             
    return circuit
